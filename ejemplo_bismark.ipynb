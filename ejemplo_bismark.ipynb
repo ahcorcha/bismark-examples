{
 "cells": [
  {
   "cell_type": "markdown",
   "metadata": {},
   "source": [
    "# Tutorial Bismark\n",
    "\n",
    "### Requerimientos\n",
    "\n",
    "- Bismark https://github.com/FelixKrueger/Bismark  \n",
    "- Samtools http://www.htslib.org/  \n",
    "- trim-galore https://github.com/FelixKrueger/TrimGalore  \n",
    "- Bowtie2 https://github.com/BenLangmead/bowtie2  \n",
    "\n",
    "\n",
    "#### Instalación con conda:\n",
    "\n",
    " 1. Crea y activa un ambiente en conda.\n",
    "\n",
    "      * `conda create bismark_ejemplo`\n",
    "      * `conda activate bismark_ejemplo`\n",
    "\n",
    " 2. Instala los requerimientos:\n",
    "\n",
    "`conda install -c bioconda bismark trim-galore bowtie2 samtools jupyter-lab\n",
    "\n",
    "`conda install -c bioconda bismark`  \n",
    "`conda install -c bioconda trim-galore`  \n",
    "`conda install -c bioconda samtools`  \n",
    "`conda install -c conda-forge jupyterlab`* \n",
    "`conda install -c bioconda bowtie2`*  \n",
    "\n",
    "---\n",
    "\n",
    "#### Software de UCSC\n",
    "\n",
    "      `bedGraphToBigWig`: Convierte archivos bedGraph a bigWig (binario y acceso rápido a los datos).  \n",
    "      `bedClip`: Remueve líneas afuera de un cromosoma en un archivo bed.  \n",
    "\n",
    "\n",
    " 1. Descarga los programas desde la pagina de UCSC: https://hgdownload.soe.ucsc.edu/downloads.html  \n",
    "\n",
    "      * Linux: http://hgdownload.soe.ucsc.edu/admin/exe/linux.x86_64.v369/  \n",
    "      * macOS: http://hgdownload.soe.ucsc.edu/admin/exe/macOSX.x86_64/  \n",
    "\n",
    "\n",
    " 2. Crea un directorio para estas herramientas:  \n",
    "\n",
    "      `mkdir -p ~/ucsc_tools`  \n",
    "\n",
    " 3. Otorga permisos a los programas:  \n",
    "\n",
    "      `chmod +x bedClip`  \n",
    "      `chmod +x bedGraphToBigWig`  \n",
    "\n",
    " 4. Agrega el directorio de los programas al PATH a `bashrc` o `bash_profile`:  \n",
    "\n",
    "      `export PATH=~/ucsc_tools:$PATH`  \n",
    "\n",
    " 5. Abre una terminal nueva y confirma ls instalación:  \n",
    "\n",
    "      `which(bedClip)`  \n",
    "      `which(bedGraphToBigWig)`  \n",
    "\n",
    "---\n",
    "\n",
    "### Datos\n",
    "\n",
    " 1. Sequencia de tu genoma, un archivo fasta indexado `samtools faidx genome.fa`\n",
    "\n",
    "      * UCSC https://hgdownload.cse.ucsc.edu/goldenPath/hg38/  \n",
    "      * igenome illumina https://support.illumina.com/sequencing/sequencing_software/igenome.html  \n",
    "\n",
    " 2. Tamaño de los chromosomas https://hgdownload.cse.ucsc.edu/goldenPath/hg38/bigZips/\n",
    " \n",
    " ---\n",
    " "
   ]
  },
  {
   "cell_type": "markdown",
   "metadata": {},
   "source": [
    "---\n",
    "# Preparar genoma"
   ]
  },
  {
   "cell_type": "code",
   "execution_count": 58,
   "metadata": {},
   "outputs": [
    {
     "name": "stdout",
     "output_type": "stream",
     "text": [
      "total 62620\n",
      "drwxrwxr-x 4 ahcorcha ahcorcha     4096 jun 30 14:49 Bisulfite_Genome\n",
      "-rw-r----- 1 ahcorcha ahcorcha 51834845 jun 30 14:34 chr22.fa\n",
      "-rw-rw-r-- 1 ahcorcha ahcorcha       23 jun 30 14:34 chr22.fa.fai\n",
      "-rw-r----- 1 ahcorcha ahcorcha 12255678 jun 30 14:34 chr22.fa.gz\n",
      "-rw-rw-r-- 1 ahcorcha ahcorcha      217 jun 30 15:38 genomic_nucleotide_frequencies.txt\n",
      "-rw-r----- 1 ahcorcha ahcorcha    11672 jun 30 09:52 hg38.chrom.sizes\n",
      "\n",
      "\n",
      "\n",
      "#!/bin/bash\n",
      "\n",
      "genome=../data/00_util/\n",
      "\n",
      "bismark_genome_preparation ${genome}\n",
      "\n"
     ]
    }
   ],
   "source": [
    "%%bash\n",
    "ls -l data/00_util/\n",
    "printf \"\\n\\n\\n\"\n",
    "cat ./bin/01_prepare_genome.sh"
   ]
  },
  {
   "cell_type": "code",
   "execution_count": 32,
   "metadata": {},
   "outputs": [
    {
     "name": "stdout",
     "output_type": "stream",
     "text": [
      "CT_conversion\n",
      "GA_conversion\n",
      "\n",
      "\n",
      "\n",
      "BS_CT.1.bt2\n",
      "BS_CT.2.bt2\n",
      "BS_CT.3.bt2\n",
      "BS_CT.4.bt2\n",
      "BS_CT.rev.1.bt2\n",
      "BS_CT.rev.2.bt2\n",
      "genome_mfa.CT_conversion.fa\n"
     ]
    }
   ],
   "source": [
    "%%bash\n",
    "ls data/00_util/Bisulfite_Genome/\n",
    "printf \"\\n\\n\\n\"\n",
    "ls data/00_util/Bisulfite_Genome/CT_conversion/"
   ]
  },
  {
   "cell_type": "markdown",
   "metadata": {},
   "source": [
    "---\n",
    "# Trimming \n"
   ]
  },
  {
   "cell_type": "code",
   "execution_count": 2,
   "metadata": {},
   "outputs": [
    {
     "name": "stdout",
     "output_type": "stream",
     "text": [
      "#!/bin/bash\n",
      "\n",
      "FQ1=../data/01_fastq/K562_1_chr22.fq.gz\n",
      "FQ2=../data/01_fastq/K562_2_chr22.fq.gz\n",
      "\n",
      "OUT=../data/02_fastq_trimmed\n",
      "\n",
      "trim_galore --quality 20 --gzip --paired --phred33 --fastqc \\\n",
      "            --illumina --output_dir ${OUT} \\\n",
      "            --cores 4 ${FQ1} ${FQ2}\n"
     ]
    }
   ],
   "source": [
    "%%bash\n",
    "cat ./bin/02_trim_fastq.sh"
   ]
  },
  {
   "cell_type": "code",
   "execution_count": 14,
   "metadata": {},
   "outputs": [
    {
     "name": "stdout",
     "output_type": "stream",
     "text": [
      "-rw-rw-r-- 1 ahcorcha 1.9K jul  1 20:27 data/02_fastq_trimmed/ref_K562_1_chr22.fq_trimming_report.txt\n",
      "-rw-rw-r-- 1 ahcorcha 241K jul  1 20:27 data/02_fastq_trimmed/ref_K562_1_chr22_val_1_fastqc.html\n",
      "-rw-rw-r-- 1 ahcorcha 288K jul  1 20:27 data/02_fastq_trimmed/ref_K562_1_chr22_val_1_fastqc.zip\n",
      "-rw-rw-r-- 1 ahcorcha 2.0K jul  1 20:27 data/02_fastq_trimmed/ref_K562_2_chr22.fq_trimming_report.txt\n",
      "-rw-rw-r-- 1 ahcorcha 249K jul  1 20:27 data/02_fastq_trimmed/ref_K562_2_chr22_val_2_fastqc.html\n",
      "-rw-rw-r-- 1 ahcorcha 300K jul  1 20:27 data/02_fastq_trimmed/ref_K562_2_chr22_val_2_fastqc.zip\n"
     ]
    }
   ],
   "source": [
    "%%bash\n",
    "ls -hgl data/02_fastq_trimmed/ref*\n"
   ]
  },
  {
   "cell_type": "markdown",
   "metadata": {},
   "source": [
    "---\n",
    "# Align\n"
   ]
  },
  {
   "cell_type": "code",
   "execution_count": 3,
   "metadata": {},
   "outputs": [
    {
     "name": "stdout",
     "output_type": "stream",
     "text": [
      "#!/bin/bash\n",
      "\n",
      "\n",
      "genome=../data/00_util/\n",
      "mismatches=1\n",
      "PREFIX=one_mismatch\n",
      "\n",
      "FQ1=../data/02_fastq_trimmed/K562_1_chr22_val_1.fq.gz\n",
      "FQ2=../data/02_fastq_trimmed/K562_2_chr22_val_2.fq.gz\n",
      "OUT=../data/03_aligned\n",
      "\n",
      "\n",
      "echo \"bismark aligned\"; date\n",
      "bismark --bowtie2 -p 2 --parallel 1 --bam --fastq -N ${mismatches} \\\n",
      " \t--output_dir ${OUT} \\\n",
      "        --prefix ${PREFIX} \\\n",
      "        --genome_folder ${genome} \\\n",
      " \t-1 ${FQ1} -2 ${FQ2}\n"
     ]
    }
   ],
   "source": [
    "%%bash\n",
    "cat ./bin/03_align.sh"
   ]
  },
  {
   "cell_type": "code",
   "execution_count": 17,
   "metadata": {},
   "outputs": [
    {
     "name": "stdout",
     "output_type": "stream",
     "text": [
      "total 301568\n",
      "-rw-rw-r-- 1 ahcorcha ahcorcha 308792209 jun 30 15:12 one_mismatch.K562_1_chr22_val_1_bismark_bt2_pe.bam\n",
      "-rw-rw-r-- 1 ahcorcha ahcorcha      1941 jun 30 15:12 one_mismatch.K562_1_chr22_val_1_bismark_bt2_PE_report.txt\n",
      "-rw-rw-r-- 1 ahcorcha ahcorcha      1941 jul  1 20:24 ref_one_mismatch.K562_1_chr22_val_1_bismark_bt2_PE_report.txt\n",
      "\n",
      "Bismark report for: ./data/02_fastq_trimmed/K562_1_chr22_val_1.fq.gz and ./data/02_fastq_trimmed/K562_2_chr22_val_2.fq.gz (version: v0.22.3)\n",
      "Bismark was run with Bowtie 2 against the bisulfite genome of /home/ahcorcha/repos/bismark-examples/data/00_util/ with the specified options: -q -N 1 --score-min L,0,-0.2 -p 2 --reorder --ignore-quals --no-mixed --no-discordant --dovetail --maxins 500\n",
      "Option '--directional' specified (default mode): alignments to complementary strands (CTOT, CTOB) were ignored (i.e. not performed)\n",
      "\n",
      "Final Alignment report\n",
      "======================\n",
      "Sequence pairs analysed in total:\t999873\n",
      "Number of paired-end alignments with a unique best hit:\t996885\n",
      "Mapping efficiency:\t99.7% \n",
      "Sequence pairs with no alignments under any condition:\t2020\n",
      "Sequence pairs did not map uniquely:\t968\n",
      "Sequence pairs which were discarded because genomic sequence could not be extracted:\t0\n",
      "\n",
      "Number of sequence pairs with unique best (first) alignment came from the bowtie output:\n",
      "CT/GA/CT:\t498740\t((converted) top strand)\n",
      "GA/CT/CT:\t0\t(complementary to (converted) top strand)\n",
      "GA/CT/GA:\t0\t(complementary to (converted) bottom strand)\n",
      "CT/GA/GA:\t498145\t((converted) bottom strand)\n",
      "\n",
      "Number of alignments to (merely theoretical) complementary strands being rejected in total:\t0\n",
      "\n",
      "Final Cytosine Methylation Report\n",
      "=================================\n",
      "Total number of C's analysed:\t48347104\n",
      "\n",
      "Total methylated C's in CpG context:\t1080724\n",
      "Total methylated C's in CHG context:\t78337\n",
      "Total methylated C's in CHH context:\t215236\n",
      "Total methylated C's in Unknown context:\t74\n",
      "\n",
      "Total unmethylated C's in CpG context:\t1731129\n",
      "Total unmethylated C's in CHG context:\t11465488\n",
      "Total unmethylated C's in CHH context:\t33776190\n",
      "Total unmethylated C's in Unknown context:\t6617\n",
      "\n",
      "C methylated in CpG context:\t38.4%\n",
      "C methylated in CHG context:\t0.7%\n",
      "C methylated in CHH context:\t0.6%\n",
      "C methylated in unknown context (CN or CHN):\t1.1%\n",
      "\n",
      "\n",
      "Bismark completed in 0d 0h 8m 48s\n"
     ]
    }
   ],
   "source": [
    "%%bash\n",
    "ls -l data/03_aligned/\n",
    "printf \"\\n\\n\\n\"\n",
    "cat data/03_aligned/ref_one_mismatch.K562_1_chr22_val_1_bismark_bt2_PE_report.txt"
   ]
  },
  {
   "cell_type": "markdown",
   "metadata": {},
   "source": [
    "---\n",
    "# Deduplicate \n",
    "\n",
    "Elimina sequencias duplicadas por PCR."
   ]
  },
  {
   "cell_type": "code",
   "execution_count": 4,
   "metadata": {},
   "outputs": [
    {
     "name": "stdout",
     "output_type": "stream",
     "text": [
      "#!/bin/bash\n",
      "\n",
      "\n",
      "BAM_IN=../data/03_aligned/one_mismatch.K562_1_chr22_val_1_bismark_bt2_pe.bam\n",
      "OUT=../data/04_deduplicated\n",
      "\n",
      "echo \"Start deduplication\"; date\n",
      "deduplicate_bismark --paired \\\n",
      "                    --bam  \\\n",
      "                    --output_dir ${OUT} \\\n",
      "                    ${BAM_IN}\n"
     ]
    }
   ],
   "source": [
    "%%bash\n",
    "cat ./bin/04_deduplicate.sh"
   ]
  },
  {
   "cell_type": "code",
   "execution_count": 21,
   "metadata": {},
   "outputs": [
    {
     "name": "stdout",
     "output_type": "stream",
     "text": [
      "total 289776\n",
      "-rw-rw-r-- 1 ahcorcha ahcorcha 296709335 jun 30 15:29 one_mismatch.K562_1_chr22_val_1_bismark_bt2_pe.deduplicated.bam\n",
      "-rw-rw-r-- 1 ahcorcha ahcorcha       807 jun 30 15:40 one_mismatch.K562_1_chr22_val_1_bismark_bt2_pe.deduplicated.nucleotide_stats.txt\n",
      "-rw-rw-r-- 1 ahcorcha ahcorcha       315 jun 30 15:29 one_mismatch.K562_1_chr22_val_1_bismark_bt2_pe.deduplication_report.txt\n",
      "-rw-rw-r-- 1 ahcorcha ahcorcha       807 jul  1 20:29 ref_one_mismatch.K562_1_chr22_val_1_bismark_bt2_pe.deduplicated.nucleotide_stats.txt\n",
      "-rw-rw-r-- 1 ahcorcha ahcorcha       315 jul  1 20:29 ref_one_mismatch.K562_1_chr22_val_1_bismark_bt2_pe.deduplication_report.txt\n",
      "\n",
      "\n",
      "Total number of alignments analysed in ./data/03_aligned/one_mismatch.K562_1_chr22_val_1_bismark_bt2_pe.bam:\t996885\n",
      "Total number duplicated alignments removed:\t40485 (4.06%)\n",
      "Duplicated alignments were found at:\t39055 different position(s)\n",
      "\n",
      "Total count of deduplicated leftover sequences: 956400 (95.94% of total)\n",
      "\n"
     ]
    }
   ],
   "source": [
    "%%bash\n",
    "ls -l data/04_deduplicated/\n",
    "printf \"\\n\\n\\n\"\n",
    "cat data/04_deduplicated/ref_one_mismatch.K562_1_chr22_val_1_bismark_bt2_pe.deduplication_report.txt"
   ]
  },
  {
   "cell_type": "markdown",
   "metadata": {},
   "source": [
    "---\n",
    "\n",
    "# Extract_methylation\n"
   ]
  },
  {
   "cell_type": "code",
   "execution_count": 5,
   "metadata": {},
   "outputs": [
    {
     "name": "stdout",
     "output_type": "stream",
     "text": [
      "#!/bin/bash\n",
      "\n",
      "\n",
      "BAM_IN=../data/04_deduplicated/one_mismatch*.bam\n",
      "OUT=../data/05_bismark_extractor/\n",
      "genome=../data/00_util/\n",
      "\n",
      "echo \"bismark_methylation_extractor\"; date\n",
      "bismark_methylation_extractor --paired-end \\\n",
      "                              --parallel 1 \\\n",
      "                              --ignore_r2 2 \\\n",
      "\t\t\t      --gzip \\\n",
      "                              --output ${OUT} \\\n",
      "                              --genome_folder ${genome} \\\n",
      "                              ${BAM_IN}\n"
     ]
    }
   ],
   "source": [
    "%%bash\n",
    "cat ./bin/05_extract_methylation.sh"
   ]
  },
  {
   "cell_type": "code",
   "execution_count": 62,
   "metadata": {},
   "outputs": [
    {
     "name": "stdout",
     "output_type": "stream",
     "text": [
      "total 171192\n",
      "-rw-rw-r-- 1 ahcorcha ahcorcha 23342032 jun 30 15:35 CHG_OB_one_mismatch.K562_1_chr22_val_1_bismark_bt2_pe.deduplicated.txt.gz\n",
      "-rw-rw-r-- 1 ahcorcha ahcorcha 23362321 jun 30 15:35 CHG_OT_one_mismatch.K562_1_chr22_val_1_bismark_bt2_pe.deduplicated.txt.gz\n",
      "-rw-rw-r-- 1 ahcorcha ahcorcha 55334841 jun 30 15:35 CHH_OB_one_mismatch.K562_1_chr22_val_1_bismark_bt2_pe.deduplicated.txt.gz\n",
      "-rw-rw-r-- 1 ahcorcha ahcorcha 55620437 jun 30 15:35 CHH_OT_one_mismatch.K562_1_chr22_val_1_bismark_bt2_pe.deduplicated.txt.gz\n",
      "-rw-rw-r-- 1 ahcorcha ahcorcha  8796514 jun 30 15:35 CpG_OB_one_mismatch.K562_1_chr22_val_1_bismark_bt2_pe.deduplicated.txt.gz\n",
      "-rw-rw-r-- 1 ahcorcha ahcorcha  8768351 jun 30 15:35 CpG_OT_one_mismatch.K562_1_chr22_val_1_bismark_bt2_pe.deduplicated.txt.gz\n",
      "-rw-rw-r-- 1 ahcorcha ahcorcha    22567 jun 30 15:35 one_mismatch.K562_1_chr22_val_1_bismark_bt2_pe.deduplicated.M-bias.txt\n",
      "-rw-rw-r-- 1 ahcorcha ahcorcha      903 jun 30 15:35 one_mismatch.K562_1_chr22_val_1_bismark_bt2_pe.deduplicated_splitting_report.txt\n",
      "-rw-rw-r-- 1 ahcorcha ahcorcha    22567 jul  1 20:30 ref_one_mismatch.K562_1_chr22_val_1_bismark_bt2_pe.deduplicated.M-bias.txt\n",
      "-rw-rw-r-- 1 ahcorcha ahcorcha      903 jul  1 20:31 ref_one_mismatch.K562_1_chr22_val_1_bismark_bt2_pe.deduplicated_splitting_report.txt\n",
      "\n",
      "\n",
      "\n",
      "one_mismatch.K562_1_chr22_val_1_bismark_bt2_pe.deduplicated.bam\n",
      "\n",
      "Parameters used to extract methylation information:\n",
      "Bismark Extractor Version: v0.22.3\n",
      "Bismark result file: paired-end (SAM format)\n",
      "Ignoring first 2 bp of Read 2\n",
      "Output specified: strand-specific (default)\n",
      "No overlapping methylation calls specified\n",
      "\n",
      "\n",
      "Processed 956400 lines in total\n",
      "Total number of methylation call strings processed: 1912800\n",
      "\n",
      "Final Cytosine Methylation Report\n",
      "=================================\n",
      "Total number of C's analysed:\t39776278\n",
      "\n",
      "Total methylated C's in CpG context:\t886854\n",
      "Total methylated C's in CHG context:\t62125\n",
      "Total methylated C's in CHH context:\t169712\n",
      "\n",
      "Total C to T conversions in CpG context:\t1423001\n",
      "Total C to T conversions in CHG context:\t9426760\n",
      "Total C to T conversions in CHH context:\t27807826\n",
      "\n",
      "C methylated in CpG context:\t38.4%\n",
      "C methylated in CHG context:\t0.7%\n",
      "C methylated in CHH context:\t0.6%\n",
      "\n",
      "\n",
      "\n",
      "\n",
      "\n",
      "CpG context (R1)\n",
      "================\n",
      "position\tcount methylated\tcount unmethylated\t% methylation\tcoverage\n",
      "1\t6398\t8252\t43.67\t14650\n",
      "2\t5487\t7340\t42.78\t12827\n",
      "3\t4762\t7273\t39.57\t12035\n",
      "4\t5599\t7509\t42.71\t13108\n",
      "5\t4988\t7091\t41.29\t12079\n",
      "6\t4952\t7599\t39.46\t12551\n",
      "7\t4650\t7110\t39.54\t11760\n",
      "8\t4790\t7316\t39.57\t12106\n",
      "9\t4976\t7536\t39.77\t12512\n",
      "10\t4872\t7530\t39.28\t12402\n",
      "11\t4713\t7167\t39.67\t11880\n",
      "12\t4734\t7197\t39.68\t11931\n",
      "13\t4682\t7293\t39.10\t11975\n",
      "14\t4809\t7405\t39.37\t12214\n",
      "15\t4601\t7333\t38.55\t11934\n",
      "16\t4885\t7371\t39.86\t12256\n",
      "17\t4865\t7521\t39.28\t12386\n",
      "\n",
      "\n",
      "\n",
      "Bismark methylation extractor version v0.22.3\n",
      "E00224:77:H2TL7CCXX:7:1201:19371:26747_1:N:0:ACAGTGAT/1\t-\tchr22\t12807367\tz\n",
      "E00224:77:H2TL7CCXX:7:1201:9262:26923_1:N:0:ACAGTGAC/1\t-\tchr22\t15829172\tz\n",
      "E00224:77:H2TL7CCXX:7:1201:9262:26923_1:N:0:ACAGTGAC/1\t-\tchr22\t15829150\tz\n",
      "E00224:77:H2TL7CCXX:7:1201:9262:26923_1:N:0:ACAGTGAC/1\t-\tchr22\t15829064\tz\n",
      "E00224:77:H2TL7CCXX:7:1201:10855:27328_1:N:0:ACAGTGAA/1\t-\tchr22\t18126597\tz\n",
      "E00224:77:H2TL7CCXX:7:1201:10855:27328_1:N:0:ACAGTGAA/1\t-\tchr22\t18126445\tz\n",
      "E00224:77:H2TL7CCXX:7:1201:8013:27468_1:N:0:ACAGTGAT/1\t-\tchr22\t20904757\tz\n",
      "E00224:77:H2TL7CCXX:7:1201:8013:27468_1:N:0:ACAGTGAT/1\t+\tchr22\t20904658\tZ\n",
      "E00224:77:H2TL7CCXX:7:1201:25958:27503_1:N:0:ACAGTGAT/1\t-\tchr22\t22717819\tz\n"
     ]
    }
   ],
   "source": [
    "%%bash\n",
    "ls -l data/05_bismark_extractor/\n",
    "printf \"\\n\\n\\n\"\n",
    "cat data/05_bismark_extractor/ref_one_mismatch.K562_1_chr22_val_1_bismark_bt2_pe.deduplicated_splitting_report.txt\n",
    "printf \"\\n\\n\\n\"\n",
    "head -n 20  data/05_bismark_extractor/ref_one_mismatch.K562_1_chr22_val_1_bismark_bt2_pe.deduplicated.M-bias.txt\n",
    "\n",
    "printf \"\\n\\n\\n\"\n",
    "zcat data/05_bismark_extractor/CpG_OB_one_mismatch.K562_1_chr22_val_1_bismark_bt2_pe.deduplicated.txt.gz | head"
   ]
  },
  {
   "cell_type": "markdown",
   "metadata": {},
   "source": [
    "---\n",
    "# bismark2bedGraph\n"
   ]
  },
  {
   "cell_type": "code",
   "execution_count": 60,
   "metadata": {},
   "outputs": [
    {
     "name": "stdout",
     "output_type": "stream",
     "text": [
      "data/05_bismark_extractor/CHG_OB_one_mismatch.K562_1_chr22_val_1_bismark_bt2_pe.deduplicated.txt.gz\n",
      "data/05_bismark_extractor/CHG_OT_one_mismatch.K562_1_chr22_val_1_bismark_bt2_pe.deduplicated.txt.gz\n",
      "data/05_bismark_extractor/CHH_OB_one_mismatch.K562_1_chr22_val_1_bismark_bt2_pe.deduplicated.txt.gz\n",
      "data/05_bismark_extractor/CHH_OT_one_mismatch.K562_1_chr22_val_1_bismark_bt2_pe.deduplicated.txt.gz\n",
      "data/05_bismark_extractor/CpG_OB_one_mismatch.K562_1_chr22_val_1_bismark_bt2_pe.deduplicated.txt.gz\n",
      "data/05_bismark_extractor/CpG_OT_one_mismatch.K562_1_chr22_val_1_bismark_bt2_pe.deduplicated.txt.gz\n",
      "#!/bin/bash\n",
      "\n",
      "echo \"bismark2bedGraph\"; date\n",
      "IN=../data/05_bismark_extractor\n",
      "\n",
      "ls -l ${IN}\n",
      "\n",
      "OUT=../data/06_bedGraph\n",
      "name=one_mismatch.K562_1_chr22_val_1_bismark_bt2_pe.deduplicated.txt.gz\n",
      "\n",
      "bismark2bedGraph --dir ${OUT} \\\n",
      "                 --output ${name} \\\n",
      "                 --buffer_size 10000M \\\n",
      "                 --CX_context \\\n",
      "                 $( ls ${IN}/C*${name} )\n"
     ]
    }
   ],
   "source": [
    "%%bash\n",
    "ls  data/05_bismark_extractor/C*\n",
    "\n",
    "cat ./bin/06_bismark2bedGraph.sh"
   ]
  },
  {
   "cell_type": "markdown",
   "metadata": {},
   "source": [
    "Formato BedGraph:  \n",
    "\n",
    "`<chromosome> <start position> <end position> <methylation percentage>`  \n",
    "\n",
    "Formato coverage:  \n",
    "`<chromosome> <start position> <end position> <methylation percentage> <count methylated> <count unmethylated>`  "
   ]
  },
  {
   "cell_type": "code",
   "execution_count": 52,
   "metadata": {},
   "outputs": [
    {
     "name": "stdout",
     "output_type": "stream",
     "text": [
      "total 122604\n",
      "-rw-rw-r-- 1 ahcorcha ahcorcha 66187130 jun 30 15:53 one_mismatch.K562_1_chr22_val_1_bismark_bt2_pe.deduplicated.txt.gz\n",
      "-rw-rw-r-- 1 ahcorcha ahcorcha 59358034 jun 30 15:53 one_mismatch.K562_1_chr22_val_1_bismark_bt2_pe.deduplicated.txt.gz.bismark.cov.gz\n",
      "\n",
      "\n",
      "\n",
      "<chromosome> <start position> <end position> <methylation percentage>\n",
      "track type=bedGraph\n",
      "chr22\t10510369\t10510370\t0\n",
      "chr22\t10510386\t10510387\t0\n",
      "chr22\t10510389\t10510390\t0\n",
      "chr22\t10510396\t10510397\t0\n",
      "chr22\t10510398\t10510399\t0\n",
      "chr22\t10510401\t10510402\t0\n",
      "chr22\t10510406\t10510407\t0\n",
      "chr22\t10510413\t10510414\t0\n",
      "chr22\t10510419\t10510420\t0\n",
      "\n",
      "\n",
      "\n",
      "<chromosome> <start position> <end position> <methylation percentage> <count methylated> <count unmethylated>\n",
      "chr22\t10510370\t10510370\t0\t0\t1\n",
      "chr22\t10510387\t10510387\t0\t0\t1\n",
      "chr22\t10510390\t10510390\t0\t0\t1\n",
      "chr22\t10510397\t10510397\t0\t0\t1\n",
      "chr22\t10510399\t10510399\t0\t0\t1\n",
      "chr22\t10510402\t10510402\t0\t0\t1\n",
      "chr22\t10510407\t10510407\t0\t0\t1\n",
      "chr22\t10510414\t10510414\t0\t0\t1\n",
      "chr22\t10510420\t10510420\t0\t0\t1\n",
      "chr22\t10510431\t10510431\t0\t0\t1\n"
     ]
    }
   ],
   "source": [
    "%%bash\n",
    "ls -l data/06_bedGraph/\n",
    "printf \"\\n\\n\\n\"\n",
    "echo \"<chromosome> <start position> <end position> <methylation percentage>\"\n",
    "zcat data/06_bedGraph/one_mismatch.K562_1_chr22_val_1_bismark_bt2_pe.deduplicated.txt.gz | head\n",
    "printf \"\\n\\n\\n\"\n",
    "echo \"<chromosome> <start position> <end position> <methylation percentage> <count methylated> <count unmethylated>\"\n",
    "zcat data/06_bedGraph/one_mismatch.K562_1_chr22_val_1_bismark_bt2_pe.deduplicated.txt.gz.bismark.cov.gz | head"
   ]
  },
  {
   "cell_type": "markdown",
   "metadata": {},
   "source": [
    "---\n",
    "# coverage2cytosine"
   ]
  },
  {
   "cell_type": "code",
   "execution_count": 7,
   "metadata": {},
   "outputs": [
    {
     "name": "stdout",
     "output_type": "stream",
     "text": [
      "#!/bin/bash\n",
      "\n",
      "genome=../data/00_util/\n",
      "COV=../data/06_bedGraph/one_mismatch.K562_1_chr22_val_1_bismark_bt2_pe.deduplicated.txt.gz.bismark.cov.gz\n",
      "OUT=../data/07_cytosine_report\n",
      "out_cyt_report=one_mismatch.K562_1_chr22_val_1_bismark_bt2_pe.deduplicated.txt.gz.bismark\n",
      "\n",
      "coverage2cytosine --genome_folder ${genome} \\\n",
      "                  --zero_based \\\n",
      "                  --CX_context \\\n",
      "                  --dir ${OUT} \\\n",
      "                  --output ${out_cyt_report} \\\n",
      "                  ${COV}\n"
     ]
    }
   ],
   "source": [
    "%%bash\n",
    "cat ./bin/07_coverage2cytosine.sh"
   ]
  },
  {
   "cell_type": "code",
   "execution_count": 37,
   "metadata": {},
   "outputs": [
    {
     "name": "stdout",
     "output_type": "stream",
     "text": [
      "total 582M\n",
      "drwxrwxr-x  3 ahcorcha 4.0K jul  1 20:32 .\n",
      "drwxrwxr-x  2 ahcorcha 4.0K jun 30 16:20 .ipynb_checkpoints\n",
      "-rw-rw-r--  1 ahcorcha 509M jun 30 15:56 one_mismatch.K562_1_chr22_val_1_bismark_bt2_pe.deduplicated.txt.gz.bismark.CX_report.txt\n",
      "-rw-rw-r--  1 ahcorcha  73M jun 30 15:56 one_mismatch.K562_1_chr22_val_1_bismark_bt2_pe.deduplicated.txt.gz.bismark.CX_report.txt.gz\n",
      "drwxrwxr-x 10 ahcorcha 4.0K jun 30 14:37 ..\n",
      "\n",
      "\n",
      "\n",
      "chr22\t10510000\t-\t0\t0\tCHH\tCNN\n",
      "chr22\t10510005\t+\t0\t0\tCHH\tCTT\n",
      "chr22\t10510008\t-\t0\t0\tCHH\tCAA\n",
      "chr22\t10510010\t-\t0\t0\tCHH\tCAC\n",
      "chr22\t10510023\t-\t0\t0\tCHH\tCTT\n",
      "chr22\t10510026\t-\t0\t0\tCHH\tCAT\n",
      "chr22\t10510028\t+\t0\t0\tCHH\tCCT\n",
      "chr22\t10510029\t+\t0\t0\tCHH\tCTA\n",
      "chr22\t10510038\t+\t0\t0\tCHG\tCTG\n",
      "chr22\t10510040\t-\t0\t0\tCHG\tCAG\n"
     ]
    }
   ],
   "source": [
    "%%bash\n",
    "ls -lhgta data/07_cytosine_report/\n",
    "printf \"\\n\\n\\n\"\n",
    "head data/07_cytosine_report/one_mismatch.K562_1_chr22_val_1_bismark_bt2_pe.deduplicated.txt.gz.bismark.CX_report.txt"
   ]
  },
  {
   "cell_type": "markdown",
   "metadata": {},
   "source": [
    "---\n",
    "# nucleotide_report"
   ]
  },
  {
   "cell_type": "code",
   "execution_count": 8,
   "metadata": {},
   "outputs": [
    {
     "name": "stdout",
     "output_type": "stream",
     "text": [
      "#!/bin/bash\n",
      "\n",
      "genome=../data/00_util/\n",
      "IN=../data/04_deduplicated/one_mismatch.K562_1_chr22_val_1_bismark_bt2_pe.deduplicated.bam\n",
      "OUT=../data/04_deduplicated\n",
      "\n",
      "bam2nuc --genome_folder ${genome} --dir ${OUT} ${IN}\n"
     ]
    }
   ],
   "source": [
    "%%bash\n",
    "cat ./bin/08_nucleotide_report.sh"
   ]
  },
  {
   "cell_type": "code",
   "execution_count": 44,
   "metadata": {},
   "outputs": [
    {
     "name": "stdout",
     "output_type": "stream",
     "text": [
      "(di-)nucleotide\tcount sample\tpercent sample\tcount genomic\tpercent genomic\tcoverage\n",
      "A\t56531809\t27.86\t10382214\t26.51\t5.445\n",
      "C\t44322407\t21.84\t9160652\t23.39\t4.838\n",
      "G\t47151576\t23.23\t9246186\t23.61\t5.100\n",
      "T\t54940684\t27.07\t10370725\t26.48\t5.298\n",
      "AA\t17133919\t8.52\t3093542\t7.90\t5.539\n",
      "AC\t10272118\t5.11\t2000965\t5.11\t5.134\n",
      "AG\t15228262\t7.57\t2937084\t7.50\t5.185\n",
      "AT\t13523078\t6.72\t2350607\t6.00\t5.753\n",
      "CA\t15250914\t7.58\t2993056\t7.64\t5.095\n",
      "CG\t2609290\t1.30\t634646\t1.62\t4.111\n",
      "CT\t14106824\t7.01\t2903828\t7.42\t4.858\n",
      "GA\t12541125\t6.24\t2444574\t6.24\t5.130\n",
      "GC\t10291343\t5.12\t2135821\t5.45\t4.818\n",
      "GG\t13254714\t6.59\t2665996\t6.81\t4.972\n",
      "GT\t10573800\t5.26\t1999791\t5.11\t5.287\n",
      "TA\t10858865\t5.40\t1851025\t4.73\t5.866\n",
      "TC\t11410531\t5.67\t2394758\t6.12\t4.765\n",
      "TG\t15699921\t7.81\t3008437\t7.68\t5.219\n",
      "TT\t16333368\t8.12\t3116495\t7.96\t5.241\n"
     ]
    }
   ],
   "source": [
    "%%bash \n",
    "head data/04_deduplicated/ref_one_mismatch.K562_1_chr22_val_1_bismark_bt2_pe.deduplicated.nucleotide_stats.txt\n",
    "tail data/04_deduplicated/ref_one_mismatch.K562_1_chr22_val_1_bismark_bt2_pe.deduplicated.nucleotide_stats.txt"
   ]
  },
  {
   "cell_type": "markdown",
   "metadata": {},
   "source": [
    "---\n",
    "# bismark_report"
   ]
  },
  {
   "cell_type": "code",
   "execution_count": 9,
   "metadata": {},
   "outputs": [
    {
     "name": "stdout",
     "output_type": "stream",
     "text": [
      "#!/bin/bash\n",
      "\n",
      "genome=../data/00_util/\n",
      "\n",
      "bismark2report --alignment_report ../data/03_aligned/one_mismatch.K562_1_chr22_val_1_bismark_bt2_PE_report.txt \\\n",
      "\t       --dedup_report ../data/04_deduplicated/one_mismatch.K562_1_chr22_val_1_bismark_bt2_pe.deduplication_report.txt \\\n",
      "\t       --splitting_report ../data/05_bismark_extractor/one_mismatch.K562_1_chr22_val_1_bismark_bt2_pe.deduplicated_splitting_report.txt \\\n",
      "\t       --mbias_report ../data/05_bismark_extractor/one_mismatch.K562_1_chr22_val_1_bismark_bt2_pe.deduplicated.M-bias.txt \\\n",
      "\t       --nucleotide_report ../data/04_deduplicated/one_mismatch.K562_1_chr22_val_1_bismark_bt2_pe.deduplicated.nucleotide_stats.txt\n"
     ]
    }
   ],
   "source": [
    "%%bash\n",
    "cat ./bin/09_bismark_report.sh"
   ]
  },
  {
   "cell_type": "markdown",
   "metadata": {},
   "source": [
    "---\n",
    "# Format data"
   ]
  },
  {
   "cell_type": "code",
   "execution_count": 56,
   "metadata": {},
   "outputs": [
    {
     "name": "stdout",
     "output_type": "stream",
     "text": [
      "#!/bin/bash\n",
      "\n",
      "cyt_report=../data/07_cytosine_report/one_mismatch.K562_1_chr22_val_1_bismark_bt2_pe.deduplicated.txt.gz.bismark.CX_report.txt\n",
      "chr_sizes=../data/00_util/hg38.chrom.sizes\n",
      "\n",
      "\n",
      "\n",
      "\n",
      "sort --output=${cyt_report}.sorted --parallel=2 --buffer-size=5G -k 1,1 -k2,2n ${cyt_report}\n",
      "\n",
      "\n",
      "\n",
      "\n",
      "awk '{FS=\"\\t\";OFS=\"\\t\"} { print $1,$2,$2+1,$4 }' ${cyt_report}.sorted  > ${cyt_report}.sorted.meth  \n",
      "\n",
      "\n",
      "\n",
      "\n",
      "# echo \"bedClip meth.\"; date\n",
      "# bedClip -verbose=2 \\\n",
      "#         ${cyt_report}.sorted.meth \\\n",
      "#         ${chr_sizes} \\\n",
      "#         ${cyt_report}.sorted.meth.clipped\n",
      "\n",
      "echo \"bedGraphToBigWig meth.\"; date\n",
      "bedGraphToBigWig ${cyt_report}.sorted.meth \\\n",
      "\t\t ${chr_sizes} \\\n",
      "\t\t ${cyt_report}.sorted.meth.bw; date\n",
      "\n",
      "\n",
      "\n",
      "\n",
      "echo \"Unmeth\"; date\n",
      "awk '{FS=\"\\t\";OFS=\"\\t\"} { print $1,$2,$2+1,$5 }' \\\n",
      "    ${cyt_report}.sorted  > ${cyt_report}.sorted.unmeth\n",
      "\n",
      "ls -lahgt ${cyt_report}.sorted.unmeth\n",
      "\n",
      "# echo \"bedClip unmeth.\"; date\n",
      "# bedClip -verbose=2 \\\n",
      "#         ${cyt_report}.sorted.unmeth \\\n",
      "#         ${chr_sizes} \\\n",
      "#         ${cyt_report}.sorted.unmeth.clipped\n",
      "\n",
      "echo \"bedGraphToBigWig meth.\"; date\n",
      "bedGraphToBigWig ${cyt_report}.sorted.unmeth \\\n",
      "                 ${chr_sizes} \\\n",
      "                 ${cyt_report}.sorted.unmeth.bw\n",
      "\n"
     ]
    }
   ],
   "source": [
    "%%bash\n",
    "cat ./bin/10_format_report.sh"
   ]
  }
 ],
 "metadata": {
  "kernelspec": {
   "display_name": "Python 3",
   "language": "python",
   "name": "python3"
  },
  "language_info": {
   "codemirror_mode": {
    "name": "ipython",
    "version": 3
   },
   "file_extension": ".py",
   "mimetype": "text/x-python",
   "name": "python",
   "nbconvert_exporter": "python",
   "pygments_lexer": "ipython3",
   "version": "3.7.7"
  }
 },
 "nbformat": 4,
 "nbformat_minor": 4
}
